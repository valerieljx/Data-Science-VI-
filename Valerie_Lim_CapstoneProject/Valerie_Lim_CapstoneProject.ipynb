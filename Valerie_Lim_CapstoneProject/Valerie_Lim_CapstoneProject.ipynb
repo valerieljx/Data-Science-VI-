{
 "cells": [
  {
   "cell_type": "markdown",
   "id": "ea157475",
   "metadata": {},
   "source": [
    "# Data Science Bootcamp Capstone Project"
   ]
  },
  {
   "cell_type": "markdown",
   "id": "b139c2b9",
   "metadata": {
    "ExecuteTime": {
     "end_time": "2021-12-26T03:11:05.511177Z",
     "start_time": "2021-12-26T03:11:05.506483Z"
    }
   },
   "source": [
    "## Problem Identification\n",
    "\n",
    "Apple Inc. is a global technology firm based in the United States that specializes in consumer goods, software, and online services. Apple is the world's most valuable firm and the leading information technology company by revenue since January 2021. (https://en.wikipedia.org/wiki/Apple_Inc.)\n",
    "\n",
    "Apple is the fourth-largest PC vendor by unit sales, as well as the fourth-largest smartphone maker, as of 2021. Along with Amazon, Alphabet (Google), Meta (Facebook), and Microsoft, it is one of the Big Five American information technology corporations.\n",
    " \n",
    "Furthermore, with the recent technoloical boom, many investors have been keeping their eye on apple stocks, hoping to buy the stocks at the optimal time, to make a profit out of it"
   ]
  },
  {
   "cell_type": "markdown",
   "id": "e270a0d8",
   "metadata": {},
   "source": [
    "# Importing Packages and Data"
   ]
  },
  {
   "cell_type": "code",
   "execution_count": 1,
   "id": "1f4b20e5",
   "metadata": {
    "ExecuteTime": {
     "end_time": "2021-12-26T14:03:16.917037Z",
     "start_time": "2021-12-26T14:03:16.904515Z"
    }
   },
   "outputs": [],
   "source": [
    "from IPython.core.interactiveshell import InteractiveShell\n",
    "InteractiveShell.ast_node_interactivity = \"all\""
   ]
  },
  {
   "cell_type": "code",
   "execution_count": 2,
   "id": "a3b1487b",
   "metadata": {
    "ExecuteTime": {
     "end_time": "2021-12-26T14:03:17.847497Z",
     "start_time": "2021-12-26T14:03:16.919315Z"
    }
   },
   "outputs": [],
   "source": [
    "import numpy as np\n",
    "import pandas as pd\n",
    "import matplotlib.pyplot as plt"
   ]
  },
  {
   "cell_type": "code",
   "execution_count": 3,
   "id": "2f67d6d6",
   "metadata": {
    "ExecuteTime": {
     "end_time": "2021-12-26T14:03:17.860110Z",
     "start_time": "2021-12-26T14:03:17.848196Z"
    }
   },
   "outputs": [
    {
     "data": {
      "text/html": [
       "<div>\n",
       "<style scoped>\n",
       "    .dataframe tbody tr th:only-of-type {\n",
       "        vertical-align: middle;\n",
       "    }\n",
       "\n",
       "    .dataframe tbody tr th {\n",
       "        vertical-align: top;\n",
       "    }\n",
       "\n",
       "    .dataframe thead th {\n",
       "        text-align: right;\n",
       "    }\n",
       "</style>\n",
       "<table border=\"1\" class=\"dataframe\">\n",
       "  <thead>\n",
       "    <tr style=\"text-align: right;\">\n",
       "      <th></th>\n",
       "      <th>Date</th>\n",
       "      <th>Close/Last</th>\n",
       "      <th>Volume</th>\n",
       "      <th>Open</th>\n",
       "      <th>High</th>\n",
       "      <th>Low</th>\n",
       "    </tr>\n",
       "  </thead>\n",
       "  <tbody>\n",
       "    <tr>\n",
       "      <th>0</th>\n",
       "      <td>02/28/2020</td>\n",
       "      <td>$273.36</td>\n",
       "      <td>106721200</td>\n",
       "      <td>$257.26</td>\n",
       "      <td>$278.41</td>\n",
       "      <td>$256.37</td>\n",
       "    </tr>\n",
       "    <tr>\n",
       "      <th>1</th>\n",
       "      <td>02/27/2020</td>\n",
       "      <td>$273.52</td>\n",
       "      <td>80151380</td>\n",
       "      <td>$281.1</td>\n",
       "      <td>$286</td>\n",
       "      <td>$272.96</td>\n",
       "    </tr>\n",
       "    <tr>\n",
       "      <th>2</th>\n",
       "      <td>02/26/2020</td>\n",
       "      <td>$292.65</td>\n",
       "      <td>49678430</td>\n",
       "      <td>$286.53</td>\n",
       "      <td>$297.88</td>\n",
       "      <td>$286.5</td>\n",
       "    </tr>\n",
       "    <tr>\n",
       "      <th>3</th>\n",
       "      <td>02/25/2020</td>\n",
       "      <td>$288.08</td>\n",
       "      <td>57668360</td>\n",
       "      <td>$300.95</td>\n",
       "      <td>$302.53</td>\n",
       "      <td>$286.13</td>\n",
       "    </tr>\n",
       "    <tr>\n",
       "      <th>4</th>\n",
       "      <td>02/24/2020</td>\n",
       "      <td>$298.18</td>\n",
       "      <td>55548830</td>\n",
       "      <td>$297.26</td>\n",
       "      <td>$304.18</td>\n",
       "      <td>$289.23</td>\n",
       "    </tr>\n",
       "  </tbody>\n",
       "</table>\n",
       "</div>"
      ],
      "text/plain": [
       "         Date  Close/Last     Volume      Open      High       Low\n",
       "0  02/28/2020     $273.36  106721200   $257.26   $278.41   $256.37\n",
       "1  02/27/2020     $273.52   80151380    $281.1      $286   $272.96\n",
       "2  02/26/2020     $292.65   49678430   $286.53   $297.88    $286.5\n",
       "3  02/25/2020     $288.08   57668360   $300.95   $302.53   $286.13\n",
       "4  02/24/2020     $298.18   55548830   $297.26   $304.18   $289.23"
      ]
     },
     "execution_count": 3,
     "metadata": {},
     "output_type": "execute_result"
    }
   ],
   "source": [
    "df = pd.read_csv('apple_stock_price.csv')\n",
    "df.head()"
   ]
  },
  {
   "cell_type": "code",
   "execution_count": 4,
   "id": "8fa4ec7f",
   "metadata": {
    "ExecuteTime": {
     "end_time": "2021-12-26T14:03:17.869173Z",
     "start_time": "2021-12-26T14:03:17.861887Z"
    },
    "scrolled": true
   },
   "outputs": [
    {
     "name": "stdout",
     "output_type": "stream",
     "text": [
      "<class 'pandas.core.frame.DataFrame'>\n",
      "RangeIndex: 2518 entries, 0 to 2517\n",
      "Data columns (total 6 columns):\n",
      " #   Column       Non-Null Count  Dtype \n",
      "---  ------       --------------  ----- \n",
      " 0   Date         2518 non-null   object\n",
      " 1    Close/Last  2518 non-null   object\n",
      " 2    Volume      2518 non-null   int64 \n",
      " 3    Open        2518 non-null   object\n",
      " 4    High        2518 non-null   object\n",
      " 5    Low         2518 non-null   object\n",
      "dtypes: int64(1), object(5)\n",
      "memory usage: 118.2+ KB\n"
     ]
    }
   ],
   "source": [
    "df.info() "
   ]
  },
  {
   "cell_type": "markdown",
   "id": "14042724",
   "metadata": {},
   "source": [
    "# Data Cleaning "
   ]
  },
  {
   "cell_type": "code",
   "execution_count": 5,
   "id": "249bf8be",
   "metadata": {
    "ExecuteTime": {
     "end_time": "2021-12-26T14:03:17.873523Z",
     "start_time": "2021-12-26T14:03:17.870241Z"
    },
    "scrolled": true
   },
   "outputs": [
    {
     "data": {
      "text/plain": [
       "Date           object\n",
       " Close/Last    object\n",
       " Volume         int64\n",
       " Open          object\n",
       " High          object\n",
       " Low           object\n",
       "dtype: object"
      ]
     },
     "execution_count": 5,
     "metadata": {},
     "output_type": "execute_result"
    }
   ],
   "source": [
    "df.dtypes"
   ]
  },
  {
   "cell_type": "markdown",
   "id": "389efd07",
   "metadata": {},
   "source": [
    "## To rename columns"
   ]
  },
  {
   "cell_type": "code",
   "execution_count": 6,
   "id": "2882e174",
   "metadata": {
    "ExecuteTime": {
     "end_time": "2021-12-26T14:03:17.881857Z",
     "start_time": "2021-12-26T14:03:17.874243Z"
    },
    "scrolled": false
   },
   "outputs": [
    {
     "data": {
      "text/html": [
       "<div>\n",
       "<style scoped>\n",
       "    .dataframe tbody tr th:only-of-type {\n",
       "        vertical-align: middle;\n",
       "    }\n",
       "\n",
       "    .dataframe tbody tr th {\n",
       "        vertical-align: top;\n",
       "    }\n",
       "\n",
       "    .dataframe thead th {\n",
       "        text-align: right;\n",
       "    }\n",
       "</style>\n",
       "<table border=\"1\" class=\"dataframe\">\n",
       "  <thead>\n",
       "    <tr style=\"text-align: right;\">\n",
       "      <th></th>\n",
       "      <th>Date</th>\n",
       "      <th>Close</th>\n",
       "      <th>Volume</th>\n",
       "      <th>Open</th>\n",
       "      <th>High</th>\n",
       "      <th>Low</th>\n",
       "    </tr>\n",
       "  </thead>\n",
       "  <tbody>\n",
       "    <tr>\n",
       "      <th>0</th>\n",
       "      <td>02/28/2020</td>\n",
       "      <td>$273.36</td>\n",
       "      <td>106721200</td>\n",
       "      <td>$257.26</td>\n",
       "      <td>$278.41</td>\n",
       "      <td>$256.37</td>\n",
       "    </tr>\n",
       "    <tr>\n",
       "      <th>1</th>\n",
       "      <td>02/27/2020</td>\n",
       "      <td>$273.52</td>\n",
       "      <td>80151380</td>\n",
       "      <td>$281.1</td>\n",
       "      <td>$286</td>\n",
       "      <td>$272.96</td>\n",
       "    </tr>\n",
       "    <tr>\n",
       "      <th>2</th>\n",
       "      <td>02/26/2020</td>\n",
       "      <td>$292.65</td>\n",
       "      <td>49678430</td>\n",
       "      <td>$286.53</td>\n",
       "      <td>$297.88</td>\n",
       "      <td>$286.5</td>\n",
       "    </tr>\n",
       "    <tr>\n",
       "      <th>3</th>\n",
       "      <td>02/25/2020</td>\n",
       "      <td>$288.08</td>\n",
       "      <td>57668360</td>\n",
       "      <td>$300.95</td>\n",
       "      <td>$302.53</td>\n",
       "      <td>$286.13</td>\n",
       "    </tr>\n",
       "    <tr>\n",
       "      <th>4</th>\n",
       "      <td>02/24/2020</td>\n",
       "      <td>$298.18</td>\n",
       "      <td>55548830</td>\n",
       "      <td>$297.26</td>\n",
       "      <td>$304.18</td>\n",
       "      <td>$289.23</td>\n",
       "    </tr>\n",
       "    <tr>\n",
       "      <th>...</th>\n",
       "      <td>...</td>\n",
       "      <td>...</td>\n",
       "      <td>...</td>\n",
       "      <td>...</td>\n",
       "      <td>...</td>\n",
       "      <td>...</td>\n",
       "    </tr>\n",
       "    <tr>\n",
       "      <th>2513</th>\n",
       "      <td>03/05/2010</td>\n",
       "      <td>$31.2786</td>\n",
       "      <td>224647427</td>\n",
       "      <td>$30.7057</td>\n",
       "      <td>$31.3857</td>\n",
       "      <td>$30.6614</td>\n",
       "    </tr>\n",
       "    <tr>\n",
       "      <th>2514</th>\n",
       "      <td>03/04/2010</td>\n",
       "      <td>$30.1014</td>\n",
       "      <td>89591907</td>\n",
       "      <td>$29.8971</td>\n",
       "      <td>$30.1314</td>\n",
       "      <td>$29.8043</td>\n",
       "    </tr>\n",
       "    <tr>\n",
       "      <th>2515</th>\n",
       "      <td>03/03/2010</td>\n",
       "      <td>$29.9043</td>\n",
       "      <td>92846488</td>\n",
       "      <td>$29.8486</td>\n",
       "      <td>$29.9814</td>\n",
       "      <td>$29.7057</td>\n",
       "    </tr>\n",
       "    <tr>\n",
       "      <th>2516</th>\n",
       "      <td>03/02/2010</td>\n",
       "      <td>$29.8357</td>\n",
       "      <td>141486282</td>\n",
       "      <td>$29.99</td>\n",
       "      <td>$30.1186</td>\n",
       "      <td>$29.6771</td>\n",
       "    </tr>\n",
       "    <tr>\n",
       "      <th>2517</th>\n",
       "      <td>03/01/2010</td>\n",
       "      <td>$29.8557</td>\n",
       "      <td>137312041</td>\n",
       "      <td>$29.3928</td>\n",
       "      <td>$29.9286</td>\n",
       "      <td>$29.35</td>\n",
       "    </tr>\n",
       "  </tbody>\n",
       "</table>\n",
       "<p>2518 rows × 6 columns</p>\n",
       "</div>"
      ],
      "text/plain": [
       "            Date      Close     Volume       Open       High        Low\n",
       "0     02/28/2020    $273.36  106721200    $257.26    $278.41    $256.37\n",
       "1     02/27/2020    $273.52   80151380     $281.1       $286    $272.96\n",
       "2     02/26/2020    $292.65   49678430    $286.53    $297.88     $286.5\n",
       "3     02/25/2020    $288.08   57668360    $300.95    $302.53    $286.13\n",
       "4     02/24/2020    $298.18   55548830    $297.26    $304.18    $289.23\n",
       "...          ...        ...        ...        ...        ...        ...\n",
       "2513  03/05/2010   $31.2786  224647427   $30.7057   $31.3857   $30.6614\n",
       "2514  03/04/2010   $30.1014   89591907   $29.8971   $30.1314   $29.8043\n",
       "2515  03/03/2010   $29.9043   92846488   $29.8486   $29.9814   $29.7057\n",
       "2516  03/02/2010   $29.8357  141486282     $29.99   $30.1186   $29.6771\n",
       "2517  03/01/2010   $29.8557  137312041   $29.3928   $29.9286     $29.35\n",
       "\n",
       "[2518 rows x 6 columns]"
      ]
     },
     "execution_count": 6,
     "metadata": {},
     "output_type": "execute_result"
    }
   ],
   "source": [
    "df = df.rename(columns={' Close/Last':'Close', ' Volume':'Volume', ' Open': 'Open', ' High':'High', ' Low':'Low'})\n",
    "df"
   ]
  },
  {
   "cell_type": "markdown",
   "id": "9499be0d",
   "metadata": {},
   "source": [
    "## To check for missing datas"
   ]
  },
  {
   "cell_type": "code",
   "execution_count": 7,
   "id": "a97ef4c5",
   "metadata": {
    "ExecuteTime": {
     "end_time": "2021-12-26T14:03:17.892405Z",
     "start_time": "2021-12-26T14:03:17.882694Z"
    }
   },
   "outputs": [
    {
     "data": {
      "text/html": [
       "<div>\n",
       "<style scoped>\n",
       "    .dataframe tbody tr th:only-of-type {\n",
       "        vertical-align: middle;\n",
       "    }\n",
       "\n",
       "    .dataframe tbody tr th {\n",
       "        vertical-align: top;\n",
       "    }\n",
       "\n",
       "    .dataframe thead th {\n",
       "        text-align: right;\n",
       "    }\n",
       "</style>\n",
       "<table border=\"1\" class=\"dataframe\">\n",
       "  <thead>\n",
       "    <tr style=\"text-align: right;\">\n",
       "      <th></th>\n",
       "      <th>Date</th>\n",
       "      <th>Close</th>\n",
       "      <th>Volume</th>\n",
       "      <th>Open</th>\n",
       "      <th>High</th>\n",
       "      <th>Low</th>\n",
       "    </tr>\n",
       "  </thead>\n",
       "  <tbody>\n",
       "    <tr>\n",
       "      <th>0</th>\n",
       "      <td>False</td>\n",
       "      <td>False</td>\n",
       "      <td>False</td>\n",
       "      <td>False</td>\n",
       "      <td>False</td>\n",
       "      <td>False</td>\n",
       "    </tr>\n",
       "    <tr>\n",
       "      <th>1</th>\n",
       "      <td>False</td>\n",
       "      <td>False</td>\n",
       "      <td>False</td>\n",
       "      <td>False</td>\n",
       "      <td>False</td>\n",
       "      <td>False</td>\n",
       "    </tr>\n",
       "    <tr>\n",
       "      <th>2</th>\n",
       "      <td>False</td>\n",
       "      <td>False</td>\n",
       "      <td>False</td>\n",
       "      <td>False</td>\n",
       "      <td>False</td>\n",
       "      <td>False</td>\n",
       "    </tr>\n",
       "    <tr>\n",
       "      <th>3</th>\n",
       "      <td>False</td>\n",
       "      <td>False</td>\n",
       "      <td>False</td>\n",
       "      <td>False</td>\n",
       "      <td>False</td>\n",
       "      <td>False</td>\n",
       "    </tr>\n",
       "    <tr>\n",
       "      <th>4</th>\n",
       "      <td>False</td>\n",
       "      <td>False</td>\n",
       "      <td>False</td>\n",
       "      <td>False</td>\n",
       "      <td>False</td>\n",
       "      <td>False</td>\n",
       "    </tr>\n",
       "    <tr>\n",
       "      <th>...</th>\n",
       "      <td>...</td>\n",
       "      <td>...</td>\n",
       "      <td>...</td>\n",
       "      <td>...</td>\n",
       "      <td>...</td>\n",
       "      <td>...</td>\n",
       "    </tr>\n",
       "    <tr>\n",
       "      <th>2513</th>\n",
       "      <td>False</td>\n",
       "      <td>False</td>\n",
       "      <td>False</td>\n",
       "      <td>False</td>\n",
       "      <td>False</td>\n",
       "      <td>False</td>\n",
       "    </tr>\n",
       "    <tr>\n",
       "      <th>2514</th>\n",
       "      <td>False</td>\n",
       "      <td>False</td>\n",
       "      <td>False</td>\n",
       "      <td>False</td>\n",
       "      <td>False</td>\n",
       "      <td>False</td>\n",
       "    </tr>\n",
       "    <tr>\n",
       "      <th>2515</th>\n",
       "      <td>False</td>\n",
       "      <td>False</td>\n",
       "      <td>False</td>\n",
       "      <td>False</td>\n",
       "      <td>False</td>\n",
       "      <td>False</td>\n",
       "    </tr>\n",
       "    <tr>\n",
       "      <th>2516</th>\n",
       "      <td>False</td>\n",
       "      <td>False</td>\n",
       "      <td>False</td>\n",
       "      <td>False</td>\n",
       "      <td>False</td>\n",
       "      <td>False</td>\n",
       "    </tr>\n",
       "    <tr>\n",
       "      <th>2517</th>\n",
       "      <td>False</td>\n",
       "      <td>False</td>\n",
       "      <td>False</td>\n",
       "      <td>False</td>\n",
       "      <td>False</td>\n",
       "      <td>False</td>\n",
       "    </tr>\n",
       "  </tbody>\n",
       "</table>\n",
       "<p>2518 rows × 6 columns</p>\n",
       "</div>"
      ],
      "text/plain": [
       "       Date  Close  Volume   Open   High    Low\n",
       "0     False  False   False  False  False  False\n",
       "1     False  False   False  False  False  False\n",
       "2     False  False   False  False  False  False\n",
       "3     False  False   False  False  False  False\n",
       "4     False  False   False  False  False  False\n",
       "...     ...    ...     ...    ...    ...    ...\n",
       "2513  False  False   False  False  False  False\n",
       "2514  False  False   False  False  False  False\n",
       "2515  False  False   False  False  False  False\n",
       "2516  False  False   False  False  False  False\n",
       "2517  False  False   False  False  False  False\n",
       "\n",
       "[2518 rows x 6 columns]"
      ]
     },
     "execution_count": 7,
     "metadata": {},
     "output_type": "execute_result"
    },
    {
     "data": {
      "text/plain": [
       "Date      0\n",
       "Close     0\n",
       "Volume    0\n",
       "Open      0\n",
       "High      0\n",
       "Low       0\n",
       "dtype: int64"
      ]
     },
     "execution_count": 7,
     "metadata": {},
     "output_type": "execute_result"
    }
   ],
   "source": [
    "df.isnull()\n",
    "df.isnull().sum()"
   ]
  },
  {
   "cell_type": "code",
   "execution_count": 8,
   "id": "7f4f96c2",
   "metadata": {
    "ExecuteTime": {
     "end_time": "2021-12-26T14:03:17.897746Z",
     "start_time": "2021-12-26T14:03:17.893290Z"
    }
   },
   "outputs": [
    {
     "data": {
      "text/plain": [
       "Date      False\n",
       "Close     False\n",
       "Volume    False\n",
       "Open      False\n",
       "High      False\n",
       "Low       False\n",
       "dtype: bool"
      ]
     },
     "execution_count": 8,
     "metadata": {},
     "output_type": "execute_result"
    }
   ],
   "source": [
    "df.isna().any()"
   ]
  },
  {
   "cell_type": "markdown",
   "id": "a326996c",
   "metadata": {},
   "source": [
    "- no missing data"
   ]
  },
  {
   "cell_type": "markdown",
   "id": "a0b6bf4c",
   "metadata": {},
   "source": [
    "## To change object type and remove symbols"
   ]
  },
  {
   "cell_type": "code",
   "execution_count": 9,
   "id": "b4cfca67",
   "metadata": {
    "ExecuteTime": {
     "end_time": "2021-12-26T14:03:17.902803Z",
     "start_time": "2021-12-26T14:03:17.898639Z"
    }
   },
   "outputs": [
    {
     "data": {
      "text/plain": [
       "['Date', 'Close', 'Volume', 'Open', 'High', 'Low']"
      ]
     },
     "execution_count": 9,
     "metadata": {},
     "output_type": "execute_result"
    },
    {
     "data": {
      "text/plain": [
       "['Close', 'Open', 'High', 'Low']"
      ]
     },
     "execution_count": 9,
     "metadata": {},
     "output_type": "execute_result"
    }
   ],
   "source": [
    "col_to_check = list(df.columns)\n",
    "col_to_check\n",
    "\n",
    "col_to_remove = [0, 2]\n",
    "for x in sorted(col_to_remove, reverse = True):\n",
    "    del col_to_check[x]\n",
    "    \n",
    "col_to_check"
   ]
  },
  {
   "cell_type": "code",
   "execution_count": 10,
   "id": "461ba8c3",
   "metadata": {
    "ExecuteTime": {
     "end_time": "2021-12-26T14:03:17.910631Z",
     "start_time": "2021-12-26T14:03:17.905580Z"
    }
   },
   "outputs": [
    {
     "data": {
      "text/plain": [
       "Date      object\n",
       "Close     object\n",
       "Volume     int64\n",
       "Open      object\n",
       "High      object\n",
       "Low       object\n",
       "dtype: object"
      ]
     },
     "execution_count": 10,
     "metadata": {},
     "output_type": "execute_result"
    }
   ],
   "source": [
    "# to change all object type to str\n",
    "\n",
    "df[col_to_check] = df[col_to_check].astype('str') \n",
    "df.dtypes"
   ]
  },
  {
   "cell_type": "code",
   "execution_count": 11,
   "id": "9ee5df52",
   "metadata": {
    "ExecuteTime": {
     "end_time": "2021-12-26T14:03:17.927553Z",
     "start_time": "2021-12-26T14:03:17.911608Z"
    },
    "scrolled": false
   },
   "outputs": [
    {
     "name": "stderr",
     "output_type": "stream",
     "text": [
      "/var/folders/fl/slc798r55sq_x96fvbs6fx4h0000gn/T/ipykernel_3880/4028286939.py:1: FutureWarning: The default value of regex will change from True to False in a future version. In addition, single character regular expressions will *not* be treated as literal strings when regex=True.\n",
      "  df['Close'] = df['Close'].str.replace('$', '').astype('float')\n",
      "/var/folders/fl/slc798r55sq_x96fvbs6fx4h0000gn/T/ipykernel_3880/4028286939.py:2: FutureWarning: The default value of regex will change from True to False in a future version. In addition, single character regular expressions will *not* be treated as literal strings when regex=True.\n",
      "  df['Open'] = df['Open'].str.replace('$', '').astype('float')\n",
      "/var/folders/fl/slc798r55sq_x96fvbs6fx4h0000gn/T/ipykernel_3880/4028286939.py:3: FutureWarning: The default value of regex will change from True to False in a future version. In addition, single character regular expressions will *not* be treated as literal strings when regex=True.\n",
      "  df['High'] = df['High'].str.replace('$', '').astype('float')\n",
      "/var/folders/fl/slc798r55sq_x96fvbs6fx4h0000gn/T/ipykernel_3880/4028286939.py:4: FutureWarning: The default value of regex will change from True to False in a future version. In addition, single character regular expressions will *not* be treated as literal strings when regex=True.\n",
      "  df['Low'] = df['Low'].str.replace('$', '').astype('float')\n"
     ]
    },
    {
     "data": {
      "text/html": [
       "<div>\n",
       "<style scoped>\n",
       "    .dataframe tbody tr th:only-of-type {\n",
       "        vertical-align: middle;\n",
       "    }\n",
       "\n",
       "    .dataframe tbody tr th {\n",
       "        vertical-align: top;\n",
       "    }\n",
       "\n",
       "    .dataframe thead th {\n",
       "        text-align: right;\n",
       "    }\n",
       "</style>\n",
       "<table border=\"1\" class=\"dataframe\">\n",
       "  <thead>\n",
       "    <tr style=\"text-align: right;\">\n",
       "      <th></th>\n",
       "      <th>Date</th>\n",
       "      <th>Close</th>\n",
       "      <th>Volume</th>\n",
       "      <th>Open</th>\n",
       "      <th>High</th>\n",
       "      <th>Low</th>\n",
       "    </tr>\n",
       "  </thead>\n",
       "  <tbody>\n",
       "    <tr>\n",
       "      <th>0</th>\n",
       "      <td>02/28/2020</td>\n",
       "      <td>273.36</td>\n",
       "      <td>106721200</td>\n",
       "      <td>257.26</td>\n",
       "      <td>278.41</td>\n",
       "      <td>256.37</td>\n",
       "    </tr>\n",
       "    <tr>\n",
       "      <th>1</th>\n",
       "      <td>02/27/2020</td>\n",
       "      <td>273.52</td>\n",
       "      <td>80151380</td>\n",
       "      <td>281.10</td>\n",
       "      <td>286.00</td>\n",
       "      <td>272.96</td>\n",
       "    </tr>\n",
       "    <tr>\n",
       "      <th>2</th>\n",
       "      <td>02/26/2020</td>\n",
       "      <td>292.65</td>\n",
       "      <td>49678430</td>\n",
       "      <td>286.53</td>\n",
       "      <td>297.88</td>\n",
       "      <td>286.50</td>\n",
       "    </tr>\n",
       "    <tr>\n",
       "      <th>3</th>\n",
       "      <td>02/25/2020</td>\n",
       "      <td>288.08</td>\n",
       "      <td>57668360</td>\n",
       "      <td>300.95</td>\n",
       "      <td>302.53</td>\n",
       "      <td>286.13</td>\n",
       "    </tr>\n",
       "    <tr>\n",
       "      <th>4</th>\n",
       "      <td>02/24/2020</td>\n",
       "      <td>298.18</td>\n",
       "      <td>55548830</td>\n",
       "      <td>297.26</td>\n",
       "      <td>304.18</td>\n",
       "      <td>289.23</td>\n",
       "    </tr>\n",
       "  </tbody>\n",
       "</table>\n",
       "</div>"
      ],
      "text/plain": [
       "         Date   Close     Volume    Open    High     Low\n",
       "0  02/28/2020  273.36  106721200  257.26  278.41  256.37\n",
       "1  02/27/2020  273.52   80151380  281.10  286.00  272.96\n",
       "2  02/26/2020  292.65   49678430  286.53  297.88  286.50\n",
       "3  02/25/2020  288.08   57668360  300.95  302.53  286.13\n",
       "4  02/24/2020  298.18   55548830  297.26  304.18  289.23"
      ]
     },
     "execution_count": 11,
     "metadata": {},
     "output_type": "execute_result"
    },
    {
     "data": {
      "text/plain": [
       "Date       object\n",
       "Close     float64\n",
       "Volume      int64\n",
       "Open      float64\n",
       "High      float64\n",
       "Low       float64\n",
       "dtype: object"
      ]
     },
     "execution_count": 11,
     "metadata": {},
     "output_type": "execute_result"
    }
   ],
   "source": [
    "df['Close'] = df['Close'].str.replace('$', '').astype('float')\n",
    "df['Open'] = df['Open'].str.replace('$', '').astype('float')\n",
    "df['High'] = df['High'].str.replace('$', '').astype('float')\n",
    "df['Low'] = df['Low'].str.replace('$', '').astype('float')\n",
    "df.head()\n",
    "df.dtypes"
   ]
  },
  {
   "cell_type": "markdown",
   "id": "eae350f0",
   "metadata": {},
   "source": [
    "## To check for duplicates"
   ]
  },
  {
   "cell_type": "code",
   "execution_count": 12,
   "id": "6fe417af",
   "metadata": {
    "ExecuteTime": {
     "end_time": "2021-12-26T14:03:17.935478Z",
     "start_time": "2021-12-26T14:03:17.928495Z"
    }
   },
   "outputs": [
    {
     "data": {
      "text/plain": [
       "0       False\n",
       "1       False\n",
       "2       False\n",
       "3       False\n",
       "4       False\n",
       "        ...  \n",
       "2513    False\n",
       "2514    False\n",
       "2515    False\n",
       "2516    False\n",
       "2517    False\n",
       "Length: 2518, dtype: bool"
      ]
     },
     "execution_count": 12,
     "metadata": {},
     "output_type": "execute_result"
    },
    {
     "data": {
      "text/plain": [
       "0"
      ]
     },
     "execution_count": 12,
     "metadata": {},
     "output_type": "execute_result"
    }
   ],
   "source": [
    "df.duplicated() \n",
    "df.duplicated().sum() "
   ]
  },
  {
   "cell_type": "markdown",
   "id": "d5ea53f0",
   "metadata": {},
   "source": [
    "- no duplication"
   ]
  },
  {
   "cell_type": "markdown",
   "id": "54296f46",
   "metadata": {},
   "source": [
    "# EDA"
   ]
  },
  {
   "cell_type": "code",
   "execution_count": 13,
   "id": "dfd85dc0",
   "metadata": {
    "ExecuteTime": {
     "end_time": "2021-12-26T14:03:17.938245Z",
     "start_time": "2021-12-26T14:03:17.936453Z"
    }
   },
   "outputs": [],
   "source": [
    "plt.style.use('_classic_test_patch')"
   ]
  },
  {
   "cell_type": "code",
   "execution_count": 14,
   "id": "644213b4",
   "metadata": {
    "ExecuteTime": {
     "end_time": "2021-12-26T14:03:17.955729Z",
     "start_time": "2021-12-26T14:03:17.939135Z"
    },
    "scrolled": false
   },
   "outputs": [
    {
     "data": {
      "text/html": [
       "<div>\n",
       "<style scoped>\n",
       "    .dataframe tbody tr th:only-of-type {\n",
       "        vertical-align: middle;\n",
       "    }\n",
       "\n",
       "    .dataframe tbody tr th {\n",
       "        vertical-align: top;\n",
       "    }\n",
       "\n",
       "    .dataframe thead th {\n",
       "        text-align: right;\n",
       "    }\n",
       "</style>\n",
       "<table border=\"1\" class=\"dataframe\">\n",
       "  <thead>\n",
       "    <tr style=\"text-align: right;\">\n",
       "      <th></th>\n",
       "      <th>Date</th>\n",
       "      <th>Close</th>\n",
       "      <th>Volume</th>\n",
       "      <th>Open</th>\n",
       "      <th>High</th>\n",
       "      <th>Low</th>\n",
       "    </tr>\n",
       "  </thead>\n",
       "  <tbody>\n",
       "    <tr>\n",
       "      <th>2517</th>\n",
       "      <td>2010-03-01</td>\n",
       "      <td>29.8557</td>\n",
       "      <td>137312041</td>\n",
       "      <td>29.3928</td>\n",
       "      <td>29.9286</td>\n",
       "      <td>29.3500</td>\n",
       "    </tr>\n",
       "    <tr>\n",
       "      <th>2516</th>\n",
       "      <td>2010-03-02</td>\n",
       "      <td>29.8357</td>\n",
       "      <td>141486282</td>\n",
       "      <td>29.9900</td>\n",
       "      <td>30.1186</td>\n",
       "      <td>29.6771</td>\n",
       "    </tr>\n",
       "    <tr>\n",
       "      <th>2515</th>\n",
       "      <td>2010-03-03</td>\n",
       "      <td>29.9043</td>\n",
       "      <td>92846488</td>\n",
       "      <td>29.8486</td>\n",
       "      <td>29.9814</td>\n",
       "      <td>29.7057</td>\n",
       "    </tr>\n",
       "    <tr>\n",
       "      <th>2514</th>\n",
       "      <td>2010-03-04</td>\n",
       "      <td>30.1014</td>\n",
       "      <td>89591907</td>\n",
       "      <td>29.8971</td>\n",
       "      <td>30.1314</td>\n",
       "      <td>29.8043</td>\n",
       "    </tr>\n",
       "    <tr>\n",
       "      <th>2513</th>\n",
       "      <td>2010-03-05</td>\n",
       "      <td>31.2786</td>\n",
       "      <td>224647427</td>\n",
       "      <td>30.7057</td>\n",
       "      <td>31.3857</td>\n",
       "      <td>30.6614</td>\n",
       "    </tr>\n",
       "    <tr>\n",
       "      <th>...</th>\n",
       "      <td>...</td>\n",
       "      <td>...</td>\n",
       "      <td>...</td>\n",
       "      <td>...</td>\n",
       "      <td>...</td>\n",
       "      <td>...</td>\n",
       "    </tr>\n",
       "    <tr>\n",
       "      <th>4</th>\n",
       "      <td>2020-02-24</td>\n",
       "      <td>298.1800</td>\n",
       "      <td>55548830</td>\n",
       "      <td>297.2600</td>\n",
       "      <td>304.1800</td>\n",
       "      <td>289.2300</td>\n",
       "    </tr>\n",
       "    <tr>\n",
       "      <th>3</th>\n",
       "      <td>2020-02-25</td>\n",
       "      <td>288.0800</td>\n",
       "      <td>57668360</td>\n",
       "      <td>300.9500</td>\n",
       "      <td>302.5300</td>\n",
       "      <td>286.1300</td>\n",
       "    </tr>\n",
       "    <tr>\n",
       "      <th>2</th>\n",
       "      <td>2020-02-26</td>\n",
       "      <td>292.6500</td>\n",
       "      <td>49678430</td>\n",
       "      <td>286.5300</td>\n",
       "      <td>297.8800</td>\n",
       "      <td>286.5000</td>\n",
       "    </tr>\n",
       "    <tr>\n",
       "      <th>1</th>\n",
       "      <td>2020-02-27</td>\n",
       "      <td>273.5200</td>\n",
       "      <td>80151380</td>\n",
       "      <td>281.1000</td>\n",
       "      <td>286.0000</td>\n",
       "      <td>272.9600</td>\n",
       "    </tr>\n",
       "    <tr>\n",
       "      <th>0</th>\n",
       "      <td>2020-02-28</td>\n",
       "      <td>273.3600</td>\n",
       "      <td>106721200</td>\n",
       "      <td>257.2600</td>\n",
       "      <td>278.4100</td>\n",
       "      <td>256.3700</td>\n",
       "    </tr>\n",
       "  </tbody>\n",
       "</table>\n",
       "<p>2518 rows × 6 columns</p>\n",
       "</div>"
      ],
      "text/plain": [
       "           Date     Close     Volume      Open      High       Low\n",
       "2517 2010-03-01   29.8557  137312041   29.3928   29.9286   29.3500\n",
       "2516 2010-03-02   29.8357  141486282   29.9900   30.1186   29.6771\n",
       "2515 2010-03-03   29.9043   92846488   29.8486   29.9814   29.7057\n",
       "2514 2010-03-04   30.1014   89591907   29.8971   30.1314   29.8043\n",
       "2513 2010-03-05   31.2786  224647427   30.7057   31.3857   30.6614\n",
       "...         ...       ...        ...       ...       ...       ...\n",
       "4    2020-02-24  298.1800   55548830  297.2600  304.1800  289.2300\n",
       "3    2020-02-25  288.0800   57668360  300.9500  302.5300  286.1300\n",
       "2    2020-02-26  292.6500   49678430  286.5300  297.8800  286.5000\n",
       "1    2020-02-27  273.5200   80151380  281.1000  286.0000  272.9600\n",
       "0    2020-02-28  273.3600  106721200  257.2600  278.4100  256.3700\n",
       "\n",
       "[2518 rows x 6 columns]"
      ]
     },
     "execution_count": 14,
     "metadata": {},
     "output_type": "execute_result"
    },
    {
     "data": {
      "text/html": [
       "<div>\n",
       "<style scoped>\n",
       "    .dataframe tbody tr th:only-of-type {\n",
       "        vertical-align: middle;\n",
       "    }\n",
       "\n",
       "    .dataframe tbody tr th {\n",
       "        vertical-align: top;\n",
       "    }\n",
       "\n",
       "    .dataframe thead th {\n",
       "        text-align: right;\n",
       "    }\n",
       "</style>\n",
       "<table border=\"1\" class=\"dataframe\">\n",
       "  <thead>\n",
       "    <tr style=\"text-align: right;\">\n",
       "      <th></th>\n",
       "      <th>Close</th>\n",
       "      <th>Volume</th>\n",
       "      <th>Open</th>\n",
       "      <th>High</th>\n",
       "      <th>Low</th>\n",
       "    </tr>\n",
       "    <tr>\n",
       "      <th>Date</th>\n",
       "      <th></th>\n",
       "      <th></th>\n",
       "      <th></th>\n",
       "      <th></th>\n",
       "      <th></th>\n",
       "    </tr>\n",
       "  </thead>\n",
       "  <tbody>\n",
       "    <tr>\n",
       "      <th>2010-03-01</th>\n",
       "      <td>29.8557</td>\n",
       "      <td>137312041</td>\n",
       "      <td>29.3928</td>\n",
       "      <td>29.9286</td>\n",
       "      <td>29.3500</td>\n",
       "    </tr>\n",
       "    <tr>\n",
       "      <th>2010-03-02</th>\n",
       "      <td>29.8357</td>\n",
       "      <td>141486282</td>\n",
       "      <td>29.9900</td>\n",
       "      <td>30.1186</td>\n",
       "      <td>29.6771</td>\n",
       "    </tr>\n",
       "    <tr>\n",
       "      <th>2010-03-03</th>\n",
       "      <td>29.9043</td>\n",
       "      <td>92846488</td>\n",
       "      <td>29.8486</td>\n",
       "      <td>29.9814</td>\n",
       "      <td>29.7057</td>\n",
       "    </tr>\n",
       "    <tr>\n",
       "      <th>2010-03-04</th>\n",
       "      <td>30.1014</td>\n",
       "      <td>89591907</td>\n",
       "      <td>29.8971</td>\n",
       "      <td>30.1314</td>\n",
       "      <td>29.8043</td>\n",
       "    </tr>\n",
       "    <tr>\n",
       "      <th>2010-03-05</th>\n",
       "      <td>31.2786</td>\n",
       "      <td>224647427</td>\n",
       "      <td>30.7057</td>\n",
       "      <td>31.3857</td>\n",
       "      <td>30.6614</td>\n",
       "    </tr>\n",
       "    <tr>\n",
       "      <th>...</th>\n",
       "      <td>...</td>\n",
       "      <td>...</td>\n",
       "      <td>...</td>\n",
       "      <td>...</td>\n",
       "      <td>...</td>\n",
       "    </tr>\n",
       "    <tr>\n",
       "      <th>2020-02-24</th>\n",
       "      <td>298.1800</td>\n",
       "      <td>55548830</td>\n",
       "      <td>297.2600</td>\n",
       "      <td>304.1800</td>\n",
       "      <td>289.2300</td>\n",
       "    </tr>\n",
       "    <tr>\n",
       "      <th>2020-02-25</th>\n",
       "      <td>288.0800</td>\n",
       "      <td>57668360</td>\n",
       "      <td>300.9500</td>\n",
       "      <td>302.5300</td>\n",
       "      <td>286.1300</td>\n",
       "    </tr>\n",
       "    <tr>\n",
       "      <th>2020-02-26</th>\n",
       "      <td>292.6500</td>\n",
       "      <td>49678430</td>\n",
       "      <td>286.5300</td>\n",
       "      <td>297.8800</td>\n",
       "      <td>286.5000</td>\n",
       "    </tr>\n",
       "    <tr>\n",
       "      <th>2020-02-27</th>\n",
       "      <td>273.5200</td>\n",
       "      <td>80151380</td>\n",
       "      <td>281.1000</td>\n",
       "      <td>286.0000</td>\n",
       "      <td>272.9600</td>\n",
       "    </tr>\n",
       "    <tr>\n",
       "      <th>2020-02-28</th>\n",
       "      <td>273.3600</td>\n",
       "      <td>106721200</td>\n",
       "      <td>257.2600</td>\n",
       "      <td>278.4100</td>\n",
       "      <td>256.3700</td>\n",
       "    </tr>\n",
       "  </tbody>\n",
       "</table>\n",
       "<p>2518 rows × 5 columns</p>\n",
       "</div>"
      ],
      "text/plain": [
       "               Close     Volume      Open      High       Low\n",
       "Date                                                         \n",
       "2010-03-01   29.8557  137312041   29.3928   29.9286   29.3500\n",
       "2010-03-02   29.8357  141486282   29.9900   30.1186   29.6771\n",
       "2010-03-03   29.9043   92846488   29.8486   29.9814   29.7057\n",
       "2010-03-04   30.1014   89591907   29.8971   30.1314   29.8043\n",
       "2010-03-05   31.2786  224647427   30.7057   31.3857   30.6614\n",
       "...              ...        ...       ...       ...       ...\n",
       "2020-02-24  298.1800   55548830  297.2600  304.1800  289.2300\n",
       "2020-02-25  288.0800   57668360  300.9500  302.5300  286.1300\n",
       "2020-02-26  292.6500   49678430  286.5300  297.8800  286.5000\n",
       "2020-02-27  273.5200   80151380  281.1000  286.0000  272.9600\n",
       "2020-02-28  273.3600  106721200  257.2600  278.4100  256.3700\n",
       "\n",
       "[2518 rows x 5 columns]"
      ]
     },
     "execution_count": 14,
     "metadata": {},
     "output_type": "execute_result"
    }
   ],
   "source": [
    "df['Date'] = pd.to_datetime(df['Date'])\n",
    "df = df.sort_values(by=\"Date\")\n",
    "df\n",
    "\n",
    "df = df.set_index('Date')\n",
    "df"
   ]
  },
  {
   "cell_type": "markdown",
   "id": "dbb7d609",
   "metadata": {},
   "source": [
    "## General Graph"
   ]
  },
  {
   "cell_type": "code",
   "execution_count": 15,
   "id": "e2f0b043",
   "metadata": {
    "ExecuteTime": {
     "end_time": "2021-12-26T14:03:18.125049Z",
     "start_time": "2021-12-26T14:03:17.956596Z"
    },
    "scrolled": false
   },
   "outputs": [
    {
     "data": {
      "text/plain": [
       "<AxesSubplot:xlabel='Date'>"
      ]
     },
     "execution_count": 15,
     "metadata": {},
     "output_type": "execute_result"
    },
    {
     "data": {
      "text/plain": [
       "Text(0.5, 1.0, 'General Trend')"
      ]
     },
     "execution_count": 15,
     "metadata": {},
     "output_type": "execute_result"
    },
    {
     "data": {
      "text/plain": [
       "Text(0.5, 0, 'Time')"
      ]
     },
     "execution_count": 15,
     "metadata": {},
     "output_type": "execute_result"
    },
    {
     "data": {
      "text/plain": [
       "Text(0, 0.5, \"['Close', 'Volume', 'Open', 'High', 'Low']\")"
      ]
     },
     "execution_count": 15,
     "metadata": {},
     "output_type": "execute_result"
    },
    {
     "data": {
      "text/plain": [
       "<matplotlib.legend.Legend at 0x7f9c1039bb50>"
      ]
     },
     "execution_count": 15,
     "metadata": {},
     "output_type": "execute_result"
    },
    {
     "data": {
      "image/png": "[encoded data removed]",
      "text/plain": [
       "<Figure size 1152x576 with 1 Axes>"
      ]
     },
     "metadata": {
      "needs_background": "light"
     },
     "output_type": "display_data"
    }
   ],
   "source": [
    "df.plot(figsize=(16,8))\n",
    "\n",
    "# To add title\n",
    "plt.title('General Trend', size=20)\n",
    "\n",
    "# To add axis\n",
    "plt.xlabel('Time', size=15)\n",
    "plt.ylabel(f\"{list(df.columns)}\", size=15)\n",
    "\n",
    "# To adjust legend\n",
    "plt.legend(fontsize=15)"
   ]
  },
  {
   "cell_type": "code",
   "execution_count": 16,
   "id": "38ad5c38",
   "metadata": {
    "ExecuteTime": {
     "end_time": "2021-12-26T14:03:18.274663Z",
     "start_time": "2021-12-26T14:03:18.125954Z"
    },
    "scrolled": false
   },
   "outputs": [
    {
     "data": {
      "text/plain": [
       "<AxesSubplot:xlabel='Date'>"
      ]
     },
     "execution_count": 16,
     "metadata": {},
     "output_type": "execute_result"
    },
    {
     "data": {
      "text/plain": [
       "Text(0.5, 1.0, 'Trend of Stocks Price')"
      ]
     },
     "execution_count": 16,
     "metadata": {},
     "output_type": "execute_result"
    },
    {
     "data": {
      "text/plain": [
       "Text(0.5, 0, 'Time')"
      ]
     },
     "execution_count": 16,
     "metadata": {},
     "output_type": "execute_result"
    },
    {
     "data": {
      "text/plain": [
       "Text(0, 0.5, \"['Close', 'Open', 'High', 'Low']\")"
      ]
     },
     "execution_count": 16,
     "metadata": {},
     "output_type": "execute_result"
    },
    {
     "data": {
      "text/plain": [
       "<matplotlib.legend.Legend at 0x7f9c4393ac70>"
      ]
     },
     "execution_count": 16,
     "metadata": {},
     "output_type": "execute_result"
    },
    {
     "data": {
      "image/png": "[encoded data removed]",
      "text/plain": [
       "<Figure size 1152x576 with 1 Axes>"
      ]
     },
     "metadata": {
      "needs_background": "light"
     },
     "output_type": "display_data"
    }
   ],
   "source": [
    "col_to_show = ['Close', 'Open', 'High', 'Low']\n",
    "df[col_to_show].plot(figsize=(16,8))\n",
    "\n",
    "# To add title\n",
    "plt.title('Trend of Stocks Price', size=20)\n",
    "\n",
    "# To add axis\n",
    "plt.xlabel('Time', size=15)\n",
    "plt.ylabel(f\"{col_to_show}\", size=15)\n",
    "\n",
    "# To adjust legend\n",
    "plt.legend(fontsize=15)"
   ]
  },
  {
   "cell_type": "markdown",
   "id": "58306dfc",
   "metadata": {},
   "source": [
    "## Simple Moving Average "
   ]
  },
  {
   "cell_type": "code",
   "execution_count": 17,
   "id": "d7eefa22",
   "metadata": {
    "ExecuteTime": {
     "end_time": "2021-12-26T14:03:18.406808Z",
     "start_time": "2021-12-26T14:03:18.275631Z"
    },
    "scrolled": false
   },
   "outputs": [
    {
     "data": {
      "text/plain": [
       "<AxesSubplot:xlabel='Date'>"
      ]
     },
     "execution_count": 17,
     "metadata": {},
     "output_type": "execute_result"
    },
    {
     "data": {
      "text/html": [
       "<div>\n",
       "<style scoped>\n",
       "    .dataframe tbody tr th:only-of-type {\n",
       "        vertical-align: middle;\n",
       "    }\n",
       "\n",
       "    .dataframe tbody tr th {\n",
       "        vertical-align: top;\n",
       "    }\n",
       "\n",
       "    .dataframe thead th {\n",
       "        text-align: right;\n",
       "    }\n",
       "</style>\n",
       "<table border=\"1\" class=\"dataframe\">\n",
       "  <thead>\n",
       "    <tr style=\"text-align: right;\">\n",
       "      <th></th>\n",
       "      <th>Close</th>\n",
       "      <th>Volume</th>\n",
       "      <th>Open</th>\n",
       "      <th>High</th>\n",
       "      <th>Low</th>\n",
       "      <th>SMA</th>\n",
       "    </tr>\n",
       "    <tr>\n",
       "      <th>Date</th>\n",
       "      <th></th>\n",
       "      <th></th>\n",
       "      <th></th>\n",
       "      <th></th>\n",
       "      <th></th>\n",
       "      <th></th>\n",
       "    </tr>\n",
       "  </thead>\n",
       "  <tbody>\n",
       "    <tr>\n",
       "      <th>2010-03-01</th>\n",
       "      <td>29.8557</td>\n",
       "      <td>137312041</td>\n",
       "      <td>29.3928</td>\n",
       "      <td>29.9286</td>\n",
       "      <td>29.3500</td>\n",
       "      <td>NaN</td>\n",
       "    </tr>\n",
       "    <tr>\n",
       "      <th>2010-03-02</th>\n",
       "      <td>29.8357</td>\n",
       "      <td>141486282</td>\n",
       "      <td>29.9900</td>\n",
       "      <td>30.1186</td>\n",
       "      <td>29.6771</td>\n",
       "      <td>NaN</td>\n",
       "    </tr>\n",
       "    <tr>\n",
       "      <th>2010-03-03</th>\n",
       "      <td>29.9043</td>\n",
       "      <td>92846488</td>\n",
       "      <td>29.8486</td>\n",
       "      <td>29.9814</td>\n",
       "      <td>29.7057</td>\n",
       "      <td>NaN</td>\n",
       "    </tr>\n",
       "    <tr>\n",
       "      <th>2010-03-04</th>\n",
       "      <td>30.1014</td>\n",
       "      <td>89591907</td>\n",
       "      <td>29.8971</td>\n",
       "      <td>30.1314</td>\n",
       "      <td>29.8043</td>\n",
       "      <td>NaN</td>\n",
       "    </tr>\n",
       "    <tr>\n",
       "      <th>2010-03-05</th>\n",
       "      <td>31.2786</td>\n",
       "      <td>224647427</td>\n",
       "      <td>30.7057</td>\n",
       "      <td>31.3857</td>\n",
       "      <td>30.6614</td>\n",
       "      <td>NaN</td>\n",
       "    </tr>\n",
       "    <tr>\n",
       "      <th>...</th>\n",
       "      <td>...</td>\n",
       "      <td>...</td>\n",
       "      <td>...</td>\n",
       "      <td>...</td>\n",
       "      <td>...</td>\n",
       "      <td>...</td>\n",
       "    </tr>\n",
       "    <tr>\n",
       "      <th>2020-02-24</th>\n",
       "      <td>298.1800</td>\n",
       "      <td>55548830</td>\n",
       "      <td>297.2600</td>\n",
       "      <td>304.1800</td>\n",
       "      <td>289.2300</td>\n",
       "      <td>304.62818</td>\n",
       "    </tr>\n",
       "    <tr>\n",
       "      <th>2020-02-25</th>\n",
       "      <td>288.0800</td>\n",
       "      <td>57668360</td>\n",
       "      <td>300.9500</td>\n",
       "      <td>302.5300</td>\n",
       "      <td>286.1300</td>\n",
       "      <td>305.27098</td>\n",
       "    </tr>\n",
       "    <tr>\n",
       "      <th>2020-02-26</th>\n",
       "      <td>292.6500</td>\n",
       "      <td>49678430</td>\n",
       "      <td>286.5300</td>\n",
       "      <td>297.8800</td>\n",
       "      <td>286.5000</td>\n",
       "      <td>305.64598</td>\n",
       "    </tr>\n",
       "    <tr>\n",
       "      <th>2020-02-27</th>\n",
       "      <td>273.5200</td>\n",
       "      <td>80151380</td>\n",
       "      <td>281.1000</td>\n",
       "      <td>286.0000</td>\n",
       "      <td>272.9600</td>\n",
       "      <td>305.83878</td>\n",
       "    </tr>\n",
       "    <tr>\n",
       "      <th>2020-02-28</th>\n",
       "      <td>273.3600</td>\n",
       "      <td>106721200</td>\n",
       "      <td>257.2600</td>\n",
       "      <td>278.4100</td>\n",
       "      <td>256.3700</td>\n",
       "      <td>305.44398</td>\n",
       "    </tr>\n",
       "  </tbody>\n",
       "</table>\n",
       "<p>2518 rows × 6 columns</p>\n",
       "</div>"
      ],
      "text/plain": [
       "               Close     Volume      Open      High       Low        SMA\n",
       "Date                                                                    \n",
       "2010-03-01   29.8557  137312041   29.3928   29.9286   29.3500        NaN\n",
       "2010-03-02   29.8357  141486282   29.9900   30.1186   29.6771        NaN\n",
       "2010-03-03   29.9043   92846488   29.8486   29.9814   29.7057        NaN\n",
       "2010-03-04   30.1014   89591907   29.8971   30.1314   29.8043        NaN\n",
       "2010-03-05   31.2786  224647427   30.7057   31.3857   30.6614        NaN\n",
       "...              ...        ...       ...       ...       ...        ...\n",
       "2020-02-24  298.1800   55548830  297.2600  304.1800  289.2300  304.62818\n",
       "2020-02-25  288.0800   57668360  300.9500  302.5300  286.1300  305.27098\n",
       "2020-02-26  292.6500   49678430  286.5300  297.8800  286.5000  305.64598\n",
       "2020-02-27  273.5200   80151380  281.1000  286.0000  272.9600  305.83878\n",
       "2020-02-28  273.3600  106721200  257.2600  278.4100  256.3700  305.44398\n",
       "\n",
       "[2518 rows x 6 columns]"
      ]
     },
     "execution_count": 17,
     "metadata": {},
     "output_type": "execute_result"
    },
    {
     "data": {
      "text/plain": [
       "<AxesSubplot:xlabel='Date'>"
      ]
     },
     "execution_count": 17,
     "metadata": {},
     "output_type": "execute_result"
    },
    {
     "data": {
      "text/plain": [
       "Text(0.5, 1.0, 'Prices with moving average')"
      ]
     },
     "execution_count": 17,
     "metadata": {},
     "output_type": "execute_result"
    },
    {
     "data": {
      "text/plain": [
       "Text(0.5, 0, 'Time')"
      ]
     },
     "execution_count": 17,
     "metadata": {},
     "output_type": "execute_result"
    },
    {
     "data": {
      "text/plain": [
       "Text(0, 0.5, 'Open')"
      ]
     },
     "execution_count": 17,
     "metadata": {},
     "output_type": "execute_result"
    },
    {
     "data": {
      "image/png": "[encoded data removed]",
      "text/plain": [
       "<Figure size 1152x432 with 1 Axes>"
      ]
     },
     "metadata": {
      "needs_background": "light"
     },
     "output_type": "display_data"
    }
   ],
   "source": [
    "df['Open'].plot(figsize=(16, 6))\n",
    "df['SMA'] = df.rolling(50).mean()['Open']\n",
    "df\n",
    "df['SMA'].plot()\n",
    "\n",
    "plt.title('Prices with moving average', size=20)\n",
    "plt.xlabel('Time', size=15)\n",
    "plt.ylabel('Open', size=15)"
   ]
  },
  {
   "cell_type": "markdown",
   "id": "11af88d4",
   "metadata": {},
   "source": [
    "# Linear Regression Model"
   ]
  },
  {
   "cell_type": "markdown",
   "id": "eb0c00ce",
   "metadata": {},
   "source": [
    "## Removing NaN values"
   ]
  },
  {
   "cell_type": "code",
   "execution_count": 18,
   "id": "f7859f05",
   "metadata": {
    "ExecuteTime": {
     "end_time": "2021-12-26T14:03:18.417361Z",
     "start_time": "2021-12-26T14:03:18.407791Z"
    }
   },
   "outputs": [
    {
     "data": {
      "text/html": [
       "<div>\n",
       "<style scoped>\n",
       "    .dataframe tbody tr th:only-of-type {\n",
       "        vertical-align: middle;\n",
       "    }\n",
       "\n",
       "    .dataframe tbody tr th {\n",
       "        vertical-align: top;\n",
       "    }\n",
       "\n",
       "    .dataframe thead th {\n",
       "        text-align: right;\n",
       "    }\n",
       "</style>\n",
       "<table border=\"1\" class=\"dataframe\">\n",
       "  <thead>\n",
       "    <tr style=\"text-align: right;\">\n",
       "      <th></th>\n",
       "      <th>Close</th>\n",
       "      <th>Volume</th>\n",
       "      <th>Open</th>\n",
       "      <th>High</th>\n",
       "      <th>Low</th>\n",
       "      <th>SMA</th>\n",
       "    </tr>\n",
       "    <tr>\n",
       "      <th>Date</th>\n",
       "      <th></th>\n",
       "      <th></th>\n",
       "      <th></th>\n",
       "      <th></th>\n",
       "      <th></th>\n",
       "      <th></th>\n",
       "    </tr>\n",
       "  </thead>\n",
       "  <tbody>\n",
       "    <tr>\n",
       "      <th>2010-03-01</th>\n",
       "      <td>29.8557</td>\n",
       "      <td>137312041</td>\n",
       "      <td>29.3928</td>\n",
       "      <td>29.9286</td>\n",
       "      <td>29.3500</td>\n",
       "      <td>101.78700</td>\n",
       "    </tr>\n",
       "    <tr>\n",
       "      <th>2010-03-02</th>\n",
       "      <td>29.8357</td>\n",
       "      <td>141486282</td>\n",
       "      <td>29.9900</td>\n",
       "      <td>30.1186</td>\n",
       "      <td>29.6771</td>\n",
       "      <td>101.78700</td>\n",
       "    </tr>\n",
       "    <tr>\n",
       "      <th>2010-03-03</th>\n",
       "      <td>29.9043</td>\n",
       "      <td>92846488</td>\n",
       "      <td>29.8486</td>\n",
       "      <td>29.9814</td>\n",
       "      <td>29.7057</td>\n",
       "      <td>101.78700</td>\n",
       "    </tr>\n",
       "    <tr>\n",
       "      <th>2010-03-04</th>\n",
       "      <td>30.1014</td>\n",
       "      <td>89591907</td>\n",
       "      <td>29.8971</td>\n",
       "      <td>30.1314</td>\n",
       "      <td>29.8043</td>\n",
       "      <td>101.78700</td>\n",
       "    </tr>\n",
       "    <tr>\n",
       "      <th>2010-03-05</th>\n",
       "      <td>31.2786</td>\n",
       "      <td>224647427</td>\n",
       "      <td>30.7057</td>\n",
       "      <td>31.3857</td>\n",
       "      <td>30.6614</td>\n",
       "      <td>101.78700</td>\n",
       "    </tr>\n",
       "    <tr>\n",
       "      <th>...</th>\n",
       "      <td>...</td>\n",
       "      <td>...</td>\n",
       "      <td>...</td>\n",
       "      <td>...</td>\n",
       "      <td>...</td>\n",
       "      <td>...</td>\n",
       "    </tr>\n",
       "    <tr>\n",
       "      <th>2020-02-24</th>\n",
       "      <td>298.1800</td>\n",
       "      <td>55548830</td>\n",
       "      <td>297.2600</td>\n",
       "      <td>304.1800</td>\n",
       "      <td>289.2300</td>\n",
       "      <td>304.62818</td>\n",
       "    </tr>\n",
       "    <tr>\n",
       "      <th>2020-02-25</th>\n",
       "      <td>288.0800</td>\n",
       "      <td>57668360</td>\n",
       "      <td>300.9500</td>\n",
       "      <td>302.5300</td>\n",
       "      <td>286.1300</td>\n",
       "      <td>305.27098</td>\n",
       "    </tr>\n",
       "    <tr>\n",
       "      <th>2020-02-26</th>\n",
       "      <td>292.6500</td>\n",
       "      <td>49678430</td>\n",
       "      <td>286.5300</td>\n",
       "      <td>297.8800</td>\n",
       "      <td>286.5000</td>\n",
       "      <td>305.64598</td>\n",
       "    </tr>\n",
       "    <tr>\n",
       "      <th>2020-02-27</th>\n",
       "      <td>273.5200</td>\n",
       "      <td>80151380</td>\n",
       "      <td>281.1000</td>\n",
       "      <td>286.0000</td>\n",
       "      <td>272.9600</td>\n",
       "      <td>305.83878</td>\n",
       "    </tr>\n",
       "    <tr>\n",
       "      <th>2020-02-28</th>\n",
       "      <td>273.3600</td>\n",
       "      <td>106721200</td>\n",
       "      <td>257.2600</td>\n",
       "      <td>278.4100</td>\n",
       "      <td>256.3700</td>\n",
       "      <td>305.44398</td>\n",
       "    </tr>\n",
       "  </tbody>\n",
       "</table>\n",
       "<p>2518 rows × 6 columns</p>\n",
       "</div>"
      ],
      "text/plain": [
       "               Close     Volume      Open      High       Low        SMA\n",
       "Date                                                                    \n",
       "2010-03-01   29.8557  137312041   29.3928   29.9286   29.3500  101.78700\n",
       "2010-03-02   29.8357  141486282   29.9900   30.1186   29.6771  101.78700\n",
       "2010-03-03   29.9043   92846488   29.8486   29.9814   29.7057  101.78700\n",
       "2010-03-04   30.1014   89591907   29.8971   30.1314   29.8043  101.78700\n",
       "2010-03-05   31.2786  224647427   30.7057   31.3857   30.6614  101.78700\n",
       "...              ...        ...       ...       ...       ...        ...\n",
       "2020-02-24  298.1800   55548830  297.2600  304.1800  289.2300  304.62818\n",
       "2020-02-25  288.0800   57668360  300.9500  302.5300  286.1300  305.27098\n",
       "2020-02-26  292.6500   49678430  286.5300  297.8800  286.5000  305.64598\n",
       "2020-02-27  273.5200   80151380  281.1000  286.0000  272.9600  305.83878\n",
       "2020-02-28  273.3600  106721200  257.2600  278.4100  256.3700  305.44398\n",
       "\n",
       "[2518 rows x 6 columns]"
      ]
     },
     "execution_count": 18,
     "metadata": {},
     "output_type": "execute_result"
    }
   ],
   "source": [
    "median = df['SMA'].median()\n",
    "df['SMA'] = df['SMA'].fillna(median)\n",
    "df"
   ]
  },
  {
   "cell_type": "markdown",
   "id": "adb9c861",
   "metadata": {},
   "source": [
    "## Regression model"
   ]
  },
  {
   "cell_type": "code",
   "execution_count": 19,
   "id": "8adf5dbd",
   "metadata": {
    "ExecuteTime": {
     "end_time": "2021-12-26T14:03:18.424458Z",
     "start_time": "2021-12-26T14:03:18.418210Z"
    },
    "scrolled": false
   },
   "outputs": [
    {
     "data": {
      "text/html": [
       "<div>\n",
       "<style scoped>\n",
       "    .dataframe tbody tr th:only-of-type {\n",
       "        vertical-align: middle;\n",
       "    }\n",
       "\n",
       "    .dataframe tbody tr th {\n",
       "        vertical-align: top;\n",
       "    }\n",
       "\n",
       "    .dataframe thead th {\n",
       "        text-align: right;\n",
       "    }\n",
       "</style>\n",
       "<table border=\"1\" class=\"dataframe\">\n",
       "  <thead>\n",
       "    <tr style=\"text-align: right;\">\n",
       "      <th></th>\n",
       "      <th>Open</th>\n",
       "    </tr>\n",
       "    <tr>\n",
       "      <th>Date</th>\n",
       "      <th></th>\n",
       "    </tr>\n",
       "  </thead>\n",
       "  <tbody>\n",
       "    <tr>\n",
       "      <th>2010-03-01</th>\n",
       "      <td>29.3928</td>\n",
       "    </tr>\n",
       "    <tr>\n",
       "      <th>2010-03-02</th>\n",
       "      <td>29.9900</td>\n",
       "    </tr>\n",
       "    <tr>\n",
       "      <th>2010-03-03</th>\n",
       "      <td>29.8486</td>\n",
       "    </tr>\n",
       "    <tr>\n",
       "      <th>2010-03-04</th>\n",
       "      <td>29.8971</td>\n",
       "    </tr>\n",
       "    <tr>\n",
       "      <th>2010-03-05</th>\n",
       "      <td>30.7057</td>\n",
       "    </tr>\n",
       "    <tr>\n",
       "      <th>...</th>\n",
       "      <td>...</td>\n",
       "    </tr>\n",
       "    <tr>\n",
       "      <th>2020-02-24</th>\n",
       "      <td>297.2600</td>\n",
       "    </tr>\n",
       "    <tr>\n",
       "      <th>2020-02-25</th>\n",
       "      <td>300.9500</td>\n",
       "    </tr>\n",
       "    <tr>\n",
       "      <th>2020-02-26</th>\n",
       "      <td>286.5300</td>\n",
       "    </tr>\n",
       "    <tr>\n",
       "      <th>2020-02-27</th>\n",
       "      <td>281.1000</td>\n",
       "    </tr>\n",
       "    <tr>\n",
       "      <th>2020-02-28</th>\n",
       "      <td>257.2600</td>\n",
       "    </tr>\n",
       "  </tbody>\n",
       "</table>\n",
       "<p>2518 rows × 1 columns</p>\n",
       "</div>"
      ],
      "text/plain": [
       "                Open\n",
       "Date                \n",
       "2010-03-01   29.3928\n",
       "2010-03-02   29.9900\n",
       "2010-03-03   29.8486\n",
       "2010-03-04   29.8971\n",
       "2010-03-05   30.7057\n",
       "...              ...\n",
       "2020-02-24  297.2600\n",
       "2020-02-25  300.9500\n",
       "2020-02-26  286.5300\n",
       "2020-02-27  281.1000\n",
       "2020-02-28  257.2600\n",
       "\n",
       "[2518 rows x 1 columns]"
      ]
     },
     "execution_count": 19,
     "metadata": {},
     "output_type": "execute_result"
    }
   ],
   "source": [
    "# To select X\n",
    "X = df[['Open']]\n",
    "X"
   ]
  },
  {
   "cell_type": "code",
   "execution_count": 20,
   "id": "9f65c1d7",
   "metadata": {
    "ExecuteTime": {
     "end_time": "2021-12-26T14:03:18.430821Z",
     "start_time": "2021-12-26T14:03:18.425308Z"
    },
    "scrolled": false
   },
   "outputs": [
    {
     "data": {
      "text/html": [
       "<div>\n",
       "<style scoped>\n",
       "    .dataframe tbody tr th:only-of-type {\n",
       "        vertical-align: middle;\n",
       "    }\n",
       "\n",
       "    .dataframe tbody tr th {\n",
       "        vertical-align: top;\n",
       "    }\n",
       "\n",
       "    .dataframe thead th {\n",
       "        text-align: right;\n",
       "    }\n",
       "</style>\n",
       "<table border=\"1\" class=\"dataframe\">\n",
       "  <thead>\n",
       "    <tr style=\"text-align: right;\">\n",
       "      <th></th>\n",
       "      <th>SMA</th>\n",
       "    </tr>\n",
       "    <tr>\n",
       "      <th>Date</th>\n",
       "      <th></th>\n",
       "    </tr>\n",
       "  </thead>\n",
       "  <tbody>\n",
       "    <tr>\n",
       "      <th>2010-03-01</th>\n",
       "      <td>101.78700</td>\n",
       "    </tr>\n",
       "    <tr>\n",
       "      <th>2010-03-02</th>\n",
       "      <td>101.78700</td>\n",
       "    </tr>\n",
       "    <tr>\n",
       "      <th>2010-03-03</th>\n",
       "      <td>101.78700</td>\n",
       "    </tr>\n",
       "    <tr>\n",
       "      <th>2010-03-04</th>\n",
       "      <td>101.78700</td>\n",
       "    </tr>\n",
       "    <tr>\n",
       "      <th>2010-03-05</th>\n",
       "      <td>101.78700</td>\n",
       "    </tr>\n",
       "    <tr>\n",
       "      <th>...</th>\n",
       "      <td>...</td>\n",
       "    </tr>\n",
       "    <tr>\n",
       "      <th>2020-02-24</th>\n",
       "      <td>304.62818</td>\n",
       "    </tr>\n",
       "    <tr>\n",
       "      <th>2020-02-25</th>\n",
       "      <td>305.27098</td>\n",
       "    </tr>\n",
       "    <tr>\n",
       "      <th>2020-02-26</th>\n",
       "      <td>305.64598</td>\n",
       "    </tr>\n",
       "    <tr>\n",
       "      <th>2020-02-27</th>\n",
       "      <td>305.83878</td>\n",
       "    </tr>\n",
       "    <tr>\n",
       "      <th>2020-02-28</th>\n",
       "      <td>305.44398</td>\n",
       "    </tr>\n",
       "  </tbody>\n",
       "</table>\n",
       "<p>2518 rows × 1 columns</p>\n",
       "</div>"
      ],
      "text/plain": [
       "                  SMA\n",
       "Date                 \n",
       "2010-03-01  101.78700\n",
       "2010-03-02  101.78700\n",
       "2010-03-03  101.78700\n",
       "2010-03-04  101.78700\n",
       "2010-03-05  101.78700\n",
       "...               ...\n",
       "2020-02-24  304.62818\n",
       "2020-02-25  305.27098\n",
       "2020-02-26  305.64598\n",
       "2020-02-27  305.83878\n",
       "2020-02-28  305.44398\n",
       "\n",
       "[2518 rows x 1 columns]"
      ]
     },
     "execution_count": 20,
     "metadata": {},
     "output_type": "execute_result"
    }
   ],
   "source": [
    "# To select Y\n",
    "y = df[['SMA']]\n",
    "y"
   ]
  },
  {
   "cell_type": "code",
   "execution_count": 21,
   "id": "0e117a73",
   "metadata": {
    "ExecuteTime": {
     "end_time": "2021-12-26T14:03:18.698262Z",
     "start_time": "2021-12-26T14:03:18.431717Z"
    }
   },
   "outputs": [],
   "source": [
    "from sklearn.linear_model import LinearRegression"
   ]
  },
  {
   "cell_type": "code",
   "execution_count": 22,
   "id": "938e2352",
   "metadata": {
    "ExecuteTime": {
     "end_time": "2021-12-26T14:03:18.766979Z",
     "start_time": "2021-12-26T14:03:18.699114Z"
    }
   },
   "outputs": [
    {
     "data": {
      "text/plain": [
       "<matplotlib.collections.PathCollection at 0x7f9c1043c790>"
      ]
     },
     "execution_count": 22,
     "metadata": {},
     "output_type": "execute_result"
    },
    {
     "data": {
      "text/plain": [
       "Text(0.5, 0, 'Open')"
      ]
     },
     "execution_count": 22,
     "metadata": {},
     "output_type": "execute_result"
    },
    {
     "data": {
      "text/plain": [
       "Text(0, 0.5, 'SMA')"
      ]
     },
     "execution_count": 22,
     "metadata": {},
     "output_type": "execute_result"
    },
    {
     "data": {
      "image/png": "[encoded data removed]",
      "text/plain": [
       "<Figure size 432x288 with 1 Axes>"
      ]
     },
     "metadata": {
      "needs_background": "light"
     },
     "output_type": "display_data"
    }
   ],
   "source": [
    "plt.scatter(X,y)\n",
    "plt.xlabel('Open')\n",
    "plt.ylabel('SMA')"
   ]
  },
  {
   "cell_type": "code",
   "execution_count": 23,
   "id": "f0309073",
   "metadata": {
    "ExecuteTime": {
     "end_time": "2021-12-26T14:03:18.769638Z",
     "start_time": "2021-12-26T14:03:18.767831Z"
    },
    "scrolled": true
   },
   "outputs": [],
   "source": [
    "from sklearn.linear_model import LinearRegression"
   ]
  },
  {
   "cell_type": "code",
   "execution_count": 24,
   "id": "220233ef",
   "metadata": {
    "ExecuteTime": {
     "end_time": "2021-12-26T14:03:18.780652Z",
     "start_time": "2021-12-26T14:03:18.770639Z"
    }
   },
   "outputs": [
    {
     "data": {
      "text/plain": [
       "LinearRegression()"
      ]
     },
     "execution_count": 24,
     "metadata": {},
     "output_type": "execute_result"
    },
    {
     "data": {
      "text/plain": [
       "array([[ 35.69705065],\n",
       "       [ 36.2406883 ],\n",
       "       [ 36.11197035],\n",
       "       ...,\n",
       "       [269.7718405 ],\n",
       "       [264.82885244],\n",
       "       [243.12704115]])"
      ]
     },
     "execution_count": 24,
     "metadata": {},
     "output_type": "execute_result"
    }
   ],
   "source": [
    "lm = LinearRegression()\n",
    "lm.fit(X, y)\n",
    "predictions = lm.predict(X)\n",
    "predictions"
   ]
  },
  {
   "cell_type": "code",
   "execution_count": 25,
   "id": "b6d94eac",
   "metadata": {
    "ExecuteTime": {
     "end_time": "2021-12-26T14:03:18.861059Z",
     "start_time": "2021-12-26T14:03:18.781726Z"
    },
    "scrolled": false
   },
   "outputs": [
    {
     "data": {
      "text/plain": [
       "<matplotlib.collections.PathCollection at 0x7f9c209d8dc0>"
      ]
     },
     "execution_count": 25,
     "metadata": {},
     "output_type": "execute_result"
    },
    {
     "data": {
      "text/plain": [
       "Text(0.5, 0, 'Open')"
      ]
     },
     "execution_count": 25,
     "metadata": {},
     "output_type": "execute_result"
    },
    {
     "data": {
      "text/plain": [
       "Text(0, 0.5, 'SMA')"
      ]
     },
     "execution_count": 25,
     "metadata": {},
     "output_type": "execute_result"
    },
    {
     "data": {
      "text/plain": [
       "array([[ 29.3928],\n",
       "       [324.74  ]])"
      ]
     },
     "execution_count": 25,
     "metadata": {},
     "output_type": "execute_result"
    },
    {
     "data": {
      "text/plain": [
       "array([[ 35.69705065],\n",
       "       [304.55481908]])"
      ]
     },
     "execution_count": 25,
     "metadata": {},
     "output_type": "execute_result"
    },
    {
     "data": {
      "text/plain": [
       "[<matplotlib.lines.Line2D at 0x7f9c209e7220>]"
      ]
     },
     "execution_count": 25,
     "metadata": {},
     "output_type": "execute_result"
    },
    {
     "data": {
      "image/png": "[encoded data removed]",
      "text/plain": [
       "<Figure size 432x288 with 1 Axes>"
      ]
     },
     "metadata": {
      "needs_background": "light"
     },
     "output_type": "display_data"
    }
   ],
   "source": [
    "plt.scatter(X,y)\n",
    "plt.xlabel('Open')\n",
    "plt.ylabel('SMA')\n",
    "\n",
    "x = np.array([X.min(),X.max()])\n",
    "x\n",
    "y_pred = x * lm.coef_ + lm.intercept_\n",
    "y_pred\n",
    "\n",
    "plt.plot(x,y_pred,c='r')"
   ]
  },
  {
   "cell_type": "code",
   "execution_count": 26,
   "id": "4cc78ed9",
   "metadata": {
    "ExecuteTime": {
     "end_time": "2021-12-26T14:03:18.942765Z",
     "start_time": "2021-12-26T14:03:18.862410Z"
    },
    "scrolled": false
   },
   "outputs": [
    {
     "data": {
      "text/plain": [
       "<Figure size 720x432 with 0 Axes>"
      ]
     },
     "execution_count": 26,
     "metadata": {},
     "output_type": "execute_result"
    },
    {
     "data": {
      "text/plain": [
       "<matplotlib.collections.PathCollection at 0x7f9c206658e0>"
      ]
     },
     "execution_count": 26,
     "metadata": {},
     "output_type": "execute_result"
    },
    {
     "data": {
      "text/plain": [
       "Text(0.5, 0, 'Predicted Open Price')"
      ]
     },
     "execution_count": 26,
     "metadata": {},
     "output_type": "execute_result"
    },
    {
     "data": {
      "text/plain": [
       "Text(0, 0.5, 'Actual Open Price')"
      ]
     },
     "execution_count": 26,
     "metadata": {},
     "output_type": "execute_result"
    },
    {
     "data": {
      "image/png": "[encoded data removed]",
      "text/plain": [
       "<Figure size 720x432 with 1 Axes>"
      ]
     },
     "metadata": {
      "needs_background": "light"
     },
     "output_type": "display_data"
    }
   ],
   "source": [
    "plt.figure(figsize=(10,6))\n",
    "plt.scatter(predictions, y, s=20, c='r')\n",
    "plt.xlabel(\"Predicted Open Price\")\n",
    "plt.ylabel(\"Actual Open Price\")\n",
    "plt.show()"
   ]
  },
  {
   "cell_type": "code",
   "execution_count": 27,
   "id": "7d1d9de5",
   "metadata": {
    "ExecuteTime": {
     "end_time": "2021-12-26T14:03:18.949880Z",
     "start_time": "2021-12-26T14:03:18.944377Z"
    }
   },
   "outputs": [
    {
     "name": "stdout",
     "output_type": "stream",
     "text": [
      "MSE: 150.45669416903903\n",
      "R-squared: 0.9527916539720591\n",
      "Adjusted R-squared: 0.9527728907184709\n",
      "Coefficients:  [[0.91031088]]\n",
      "Intercept:  [8.94046512]\n"
     ]
    }
   ],
   "source": [
    "from sklearn.metrics import mean_squared_error, r2_score, mean_absolute_error\n",
    "\n",
    "r2 = r2_score(y, predictions)\n",
    "adjusted_r2 = 1 - (len(y)-1)/(len(y)-len(X.columns)-1)*(1 - r2)\n",
    "\n",
    "print(\"MSE:\", f'{mean_squared_error(y, predictions)}')\n",
    "print(\"R-squared:\", r2)\n",
    "print(\"Adjusted R-squared:\", adjusted_r2)\n",
    "print(\"Coefficients: \",lm.coef_)\n",
    "print(\"Intercept: \",lm.intercept_)"
   ]
  },
  {
   "cell_type": "markdown",
   "id": "6eaced18",
   "metadata": {},
   "source": [
    "# Evaluation and conclusion"
   ]
  },
  {
   "cell_type": "markdown",
   "id": "227073e5",
   "metadata": {
    "ExecuteTime": {
     "end_time": "2021-12-26T12:21:39.003354Z",
     "start_time": "2021-12-26T12:21:38.994945Z"
    }
   },
   "source": [
    "- R-squared:\n",
    "    - R-squared ranges from 0 to 1\n",
    "    - Generally, the higher the r-squared value, the closer the fit for the model\n",
    "    - Since the R-squared value is relative high at 0.95277, it indicated that about 95% of the data fit the model \n",
    "\n",
    "- Coefficient of correlation:\n",
    "    - Since coefficient of correlation value is close to 1, at 0.91031088, the model is relatively accurate  "
   ]
  },
  {
   "cell_type": "markdown",
   "id": "4f075536",
   "metadata": {},
   "source": [
    "These data can be combined with stock prices of the other companies to see if there are any relationship, such as whether changes in other companies stock price will affect the stock price of apple. This way, a better prediction model for stock prices can be produced.\n",
    "\n",
    "However, stock price are affected by earnings, economy, expectations and emotion. Prediction based on previous stock prices may not be accurate when there is a sudden changes in any of those factors that machine learning cannot pick up on. \n",
    "\n",
    "Predicting stock price based on linear regression has its limitations, such as there is a lot of variability in the actual data but a standard increase in the forecasted values. \n",
    "\n",
    "In future, Long Short Term Memory (LSTM) modelling can be used. LSTM networks are well-suited to classifying, processing and making predictions based on time series data, since there can be lags of unknown duration between important events in a time series Thus, this more advanced and complex deep learning model is able to better predict future stock prices.\n",
    "\n",
    "https://www.analyticsvidhya.com/blog/2018/10/predicting-stock-price-machine-learningnd-deep-learning-techniques-python/"
   ]
  }
 ],
 "metadata": {
  "kernelspec": {
   "display_name": "Python 3 (ipykernel)",
   "language": "python",
   "name": "python3"
  },
  "language_info": {
   "codemirror_mode": {
    "name": "ipython",
    "version": 3
   },
   "file_extension": ".py",
   "mimetype": "text/x-python",
   "name": "python",
   "nbconvert_exporter": "python",
   "pygments_lexer": "ipython3",
   "version": "3.9.7"
  },
  "toc": {
   "base_numbering": 1,
   "nav_menu": {},
   "number_sections": true,
   "sideBar": true,
   "skip_h1_title": false,
   "title_cell": "Table of Contents",
   "title_sidebar": "Contents",
   "toc_cell": false,
   "toc_position": {
    "height": "calc(100% - 180px)",
    "left": "10px",
    "top": "150px",
    "width": "320px"
   },
   "toc_section_display": true,
   "toc_window_display": true
  },
  "varInspector": {
   "cols": {
    "lenName": 16,
    "lenType": 16,
    "lenVar": 40
   },
   "kernels_config": {
    "python": {
     "delete_cmd_postfix": "",
     "delete_cmd_prefix": "del ",
     "library": "var_list.py",
     "varRefreshCmd": "print(var_dic_list())"
    },
    "r": {
     "delete_cmd_postfix": ") ",
     "delete_cmd_prefix": "rm(",
     "library": "var_list.r",
     "varRefreshCmd": "cat(var_dic_list()) "
    }
   },
   "types_to_exclude": [
    "module",
    "function",
    "builtin_function_or_method",
    "instance",
    "_Feature"
   ],
   "window_display": false
  }
 },
 "nbformat": 4,
 "nbformat_minor": 5
}
